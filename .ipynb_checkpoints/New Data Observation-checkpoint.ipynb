{
 "cells": [
  {
   "cell_type": "code",
   "execution_count": 18,
   "id": "67795d0d-b753-43e3-8cd9-e58b523af3ec",
   "metadata": {},
   "outputs": [],
   "source": [
    "\"\"\"\n",
    "DO NOT RUN\n",
    "\n",
    "'Data Observation' was used to test data and help visual data to determine best ways to display/interpret the data.\n",
    "\"\"\"\n",
    "#THINGS TO DO:\n",
    "# MAKE A GRAPH FROM BOROUGHZIPLIST TO SHOW THE NNUMBER OF ZIP CODES IN EACH BOROUGH\n",
    "\n",
    "import pandas as pd\n",
    "import csv\n",
    "import numpy as np\n",
    "import matplotlib.pyplot as plt\n",
    "import math   \n",
    "import seaborn as sns"
   ]
  },
  {
   "cell_type": "code",
   "execution_count": 189,
   "id": "631a3d47-6186-429b-b7fa-f744839b6e38",
   "metadata": {
    "tags": []
   },
   "outputs": [
    {
     "name": "stdout",
     "output_type": "stream",
     "text": [
      "     2015-01  2015-02  2015-03  2015-04  2015-05  2015-06  2015-07  2015-08  \\\n",
      "5     2200.0   2200.0   2200.0   2300.0   2300.0   2295.0   2300.0   2300.0   \n",
      "6     1995.0      NaN   2300.0   2100.0   1995.0   1995.0   1950.0   1900.0   \n",
      "7     1725.0   1775.0   1775.0   2000.0   1850.0   1613.0   1700.0   1700.0   \n",
      "8     3800.0   3950.0   4025.0   4150.0   4518.0   4630.0   4700.0   4795.0   \n",
      "9     1700.0   1700.0   1749.0   1800.0   1800.0   1800.0   1800.0   1850.0   \n",
      "..       ...      ...      ...      ...      ...      ...      ...      ...   \n",
      "193   2700.0   2700.0   2637.0   2700.0   2700.0   2800.0   2800.0   2605.0   \n",
      "194   1700.0   1700.0   1700.0   1675.0   1735.0   1725.0      NaN      NaN   \n",
      "195      NaN      NaN      NaN      NaN      NaN      NaN      NaN      NaN   \n",
      "196   1925.0   2150.0   1900.0   1838.0   1800.0   1913.0   1800.0   1800.0   \n",
      "197      NaN      NaN      NaN      NaN      NaN      NaN      NaN      NaN   \n",
      "\n",
      "     2015-09  2015-10  ...  2022-07  2022-08  2022-09  2022-10  2022-11  \\\n",
      "5     2200.0   2200.0  ...   2650.0   2700.0   2795.0   2695.0   2600.0   \n",
      "6     1995.0   1995.0  ...   2514.0   2600.0      NaN   2400.0      NaN   \n",
      "7     1750.0   2000.0  ...   1800.0   1860.0   2075.0   1994.0   1725.0   \n",
      "8     4750.0   4750.0  ...   5613.0   5600.0   5300.0   5300.0   4995.0   \n",
      "9     1899.0   1850.0  ...   2175.0   2350.0   2300.0   2200.0   2100.0   \n",
      "..       ...      ...  ...      ...      ...      ...      ...      ...   \n",
      "193   2600.0   2600.0  ...   3455.0   3750.0   3425.0   3200.0   2795.0   \n",
      "194   1650.0   1995.0  ...   2400.0   2075.0   2075.0   2313.0   2399.0   \n",
      "195      NaN      NaN  ...      NaN      NaN      NaN      NaN      NaN   \n",
      "196   1850.0   1600.0  ...   2200.0   2200.0   2300.0   2263.0   2200.0   \n",
      "197      NaN      NaN  ...   1950.0   1800.0   1625.0   1800.0   2100.0   \n",
      "\n",
      "     2022-12  2023-01  2023-02  2023-03  2023-04  \n",
      "5     2600.0   2695.0   2697.0   2750.0   2750.0  \n",
      "6        NaN   2450.0   2700.0   2100.0   2025.0  \n",
      "7     1700.0   1750.0   1960.0   1982.0   2150.0  \n",
      "8     5300.0   5375.0   5595.0   5438.0   5450.0  \n",
      "9     2200.0   2350.0   2324.0   2200.0   2125.0  \n",
      "..       ...      ...      ...      ...      ...  \n",
      "193   2950.0   3000.0   2995.0   3200.0   3400.0  \n",
      "194   2250.0   2299.0   2150.0   2500.0   2500.0  \n",
      "195      NaN      NaN      NaN      NaN      NaN  \n",
      "196   2250.0   2200.0   2250.0   2250.0   2375.0  \n",
      "197   2000.0   1963.0   2125.0   2400.0   2500.0  \n",
      "\n",
      "[193 rows x 100 columns]\n"
     ]
    }
   ],
   "source": [
    "#Getting \"number of missing data\" from each neighborhood\n",
    "medianRentSE = pd.read_csv('data/medianAskingRentStreetEasy.csv')\n",
    "#Dropping cols/rows irrelevant to missing data count\n",
    "dropCols = medianRentSE.columns[0:63]\n",
    "medianRentSE.drop(dropCols, axis=1, inplace=True)\n",
    "medianRentSE.drop([0,1,2,3,4], axis=0, inplace=True)\n",
    "print(medianRentSE)\n",
    "#Changes minor optimizations and file reading through pandas"
   ]
  },
  {
   "cell_type": "code",
   "execution_count": 197,
   "id": "359d9f5e-a675-47da-bebd-f72c9ef7a98b",
   "metadata": {
    "tags": []
   },
   "outputs": [],
   "source": [
    "#Create a list containing the number of missing datapoints in each row\n",
    "first = True\n",
    "fail_list = []\n",
    "for line in medianRentSE.values:\n",
    "    failcount = 0\n",
    "    if first:\n",
    "        DATA_LEN = len(line)\n",
    "        first = False\n",
    "    for point in line:\n",
    "        if math.isnan(point):\n",
    "            failcount += 1\n",
    "    if failcount > (DATA_LEN // 2) or failcount == 0: #Ignores lines that are missing no data or over half the data\n",
    "        continue\n",
    "    fail_list.append(failcount)\n",
    "#CHANGES: Major condensing of code, removing extraneous code"
   ]
  },
  {
   "cell_type": "code",
   "execution_count": 199,
   "id": "89679aa8-77e5-42e3-85c0-9b573cb1c07f",
   "metadata": {
    "tags": []
   },
   "outputs": [
    {
     "name": "stderr",
     "output_type": "stream",
     "text": [
      "C:\\Users\\chris\\anaconda3\\Lib\\site-packages\\seaborn\\_oldcore.py:1119: FutureWarning: use_inf_as_na option is deprecated and will be removed in a future version. Convert inf values to NaN before operating instead.\n",
      "  with pd.option_context('mode.use_inf_as_na', True):\n"
     ]
    },
    {
     "data": {
      "text/plain": [
       "<Axes: ylabel='Count'>"
      ]
     },
     "execution_count": 199,
     "metadata": {},
     "output_type": "execute_result"
    },
    {
     "data": {
      "image/png": "[encoded data removed]",
      "text/plain": [
       "<Figure size 640x480 with 1 Axes>"
      ]
     },
     "metadata": {},
     "output_type": "display_data"
    }
   ],
   "source": [
    "#Draws graph of remaining missing data count\n",
    "sns.histplot(data=fail_list, bins=bin_count)\n",
    "#CHANGES: graphing done with seaborn"
   ]
  },
  {
   "cell_type": "code",
   "execution_count": null,
   "id": "80f1b132-32c6-48fc-9aa8-07adbbe4edb2",
   "metadata": {},
   "outputs": [],
   "source": [
    "#Reads income/rent data to a dictionary and separates points with positive or negative rent difference\n",
    "tDataDict = {}\n",
    "nBelow = []\n",
    "nAbove = []\n",
    "with open('NYCIncomeRentData.csv') as totalData:\n",
    "    tData = csv.reader(totalData, delimiter=',')\n",
    "    first = True\n",
    "    for line in tData:\n",
    "        neighbor = line[0]\n",
    "        tDataDict[neighbor] = line[1:]\n",
    "        if first:\n",
    "            first = False\n",
    "            continue\n",
    "        if float(line[-1]) > 0:\n",
    "            nAbove.append(line[-1])\n",
    "        else:\n",
    "            nBelow.append(line[-1]) "
   ]
  },
  {
   "cell_type": "code",
   "execution_count": null,
   "id": "20f30258-e680-4858-ae60-d3a4baa0d083",
   "metadata": {},
   "outputs": [],
   "source": [
    "#Determining and printing the mean and median amounts by which the rents exceeded the 30% income threshold\n",
    "count = 0\n",
    "meanAbove = 0\n",
    "nAbove.sort()\n",
    "nBelow.sort(reverse=True)\n",
    "medianAbove, meanAbove = MedianMeanCalc(nAbove)\n",
    "medianBelow, meanBelow = MedianMeanCalc(nBelow)\n",
    "print('Mean above 30: %s\\nMedian above 30: %s' %(meanAbove, medianAbove))\n",
    "print('Mean below 30: %s\\nMedian below 30: %s' %(meanBelow, medianBelow)) "
   ]
  },
  {
   "cell_type": "code",
   "execution_count": null,
   "id": "705eefdc-c2e4-4628-b2a0-b5ed7183a99a",
   "metadata": {},
   "outputs": [],
   "source": [
    "#Getting the percentage of actual rent being paid in respect to income\n",
    "RentPercent = []\n",
    "for key in tDataDict:\n",
    "    keyList = tDataDict[key]\n",
    "    if keyList[0] == 'Median Income' or keyList[-1] == 'Actual Rent vs. 30% Income Rent':\n",
    "        continue\n",
    "    Inc, Rent = float(keyList[0]), float(keyList[4])\n",
    "    RentPercent.append((Rent / (Inc/12)) * 100)\n",
    "RentPercentS = RentPercent.copy()\n",
    "RentPercentS.sort()\n",
    "medARent, meanARent = MedianMeanCalc(RentPercentS)\n",
    "print(medARent)"
   ]
  },
  {
   "cell_type": "code",
   "execution_count": null,
   "id": "a23a534f-e997-408d-8824-af8f7316e962",
   "metadata": {},
   "outputs": [],
   "source": [
    "#Plotting income along x, and rent costs for y\n",
    "mIncome = []\n",
    "rDiff = []\n",
    "incomeList = []\n",
    "for key in tDataDict:\n",
    "    keyList = tDataDict[key]\n",
    "    if keyList[0] == 'Median Income' or keyList[-1] == 'Actual Rent vs. 30% Income Rent':\n",
    "        continue\n",
    "    mIncome.append(keyList[0])\n",
    "    rDiff.append(keyList[-1])\n",
    "mIncome.sort()\n",
    "IncomeData = plt.figure()\n",
    "for i in range(len(mIncome)):\n",
    "    mIncome[i] = float(mIncome[i])\n",
    "for i in range(len(rDiff)):\n",
    "    rDiff[i] = float(rDiff[i])\n",
    "incomeList = mIncome[:]\n",
    "mIncome = np.array(mIncome)\n",
    "RentPercent = np.array(RentPercent)\n",
    "a, b = np.polyfit(mIncome,RentPercent, 1)\n",
    "plt.scatter(mIncome, RentPercent)\n",
    "plt.plot(mIncome, (a*RentPercent + b))\n",
    "plt.plot(mIncome, (0*RentPercent + 30))\n",
    "plt.xlabel('Median Income')\n",
    "plt.ylabel('Actual Rent Percent')\n",
    "plt.title('Median Income vs. Actual Rent Percent')\n",
    "plt.show()"
   ]
  },
  {
   "cell_type": "code",
   "execution_count": null,
   "id": "5687ab44-11e9-453d-9699-d103cebb3d0f",
   "metadata": {},
   "outputs": [],
   "source": [
    "#Calculating a middle class and the percentage rent takes up for the upper and lower bounds of the middle class\n",
    "first = True\n",
    "totalMedian, totalMean = MedianMeanCalc(incomeList)\n",
    "midclassL = totalMedian * (2/3)\n",
    "midclassH = totalMedian * 2\n",
    "print(\"Upper Bound of Middle Class: \" + str(midclassH))\n",
    "print(\"Lower Bound of Middle Class: \" + str(midclassL))\n",
    "for key in tDataDict:\n",
    "    keyList = tDataDict[key]\n",
    "    if first:\n",
    "        keyList.append(\"Middle Class Lower \\%\")\n",
    "        keyList.append(\"Middle Class Higher \\%\")\n",
    "        first = False\n",
    "        continue\n",
    "    keyList.append(float(keyList[4]) / (midclassL/12))\n",
    "    keyList.append(float(keyList[4]) / (midclassH/12))"
   ]
  },
  {
   "cell_type": "code",
   "execution_count": null,
   "id": "54e90ec6-72db-418d-8c18-33790f4069a0",
   "metadata": {},
   "outputs": [],
   "source": [
    "#Calculating percentiles and rent %s for those percentiles then plotting them in a scatter plot\n",
    "first = True\n",
    "rentPer = []\n",
    "percentiles = []\n",
    "for key in tDataDict:\n",
    "    if first:\n",
    "        first = False\n",
    "        continue\n",
    "    rate = 0.0\n",
    "    for i in range(10):\n",
    "        rate += .2\n",
    "        rentL = tDataDict[key][4]\n",
    "        currPercent = totalMedian*rate\n",
    "        rentPer.append(float(rentL)/currPercent)\n",
    "        percentiles.append(rate)\n",
    "rentPer = np.array(rentPer)\n",
    "percentiles = np.array(percentiles)\n",
    "uniques = []\n",
    "for i in percentiles:\n",
    "    if i not in uniques:\n",
    "        uniques.append(i)\n",
    "a, b = np.polyfit(percentiles,rentPer, 1)\n",
    "print(a, b)\n",
    "plt.scatter(percentiles, rentPer)\n",
    "#plt.plot(percentiles, (a*rentPer + b))\n",
    "plt.xlabel('Income Percentiles')\n",
    "plt.ylabel('Rent Percent')\n",
    "plt.title('Income Percentiles vs. Rent Percent')\n",
    "plt.xticks(uniques)\n",
    "plt.show()       "
   ]
  },
  {
   "cell_type": "code",
   "execution_count": null,
   "id": "0704a2fa-e3f5-4b87-a032-f88c9cffacf4",
   "metadata": {},
   "outputs": [],
   "source": [
    "#Checking and comparing mean/median vs income graphs to decide which is better to use\n",
    "newMData = pd.read_csv('newMedianAskingRent.csv')\n",
    "colAvg = []\n",
    "beforeData = True\n",
    "RentMedList = []\n",
    "colNames = []\n",
    "Tcount = -1 \n",
    "first = True\n",
    "for i in newMData.columns:\n",
    "    if i == '2018-04':\n",
    "        beforeData = False\n",
    "    if beforeData:\n",
    "        continue\n",
    "    colNames.append(i)\n",
    "    tempList = []\n",
    "    for num in newMData[i]:\n",
    "        tempList.append(num)\n",
    "    RentMedList.append(MedianCalc(tempList))\n",
    "for col in colNames:\n",
    "    Tcount+=1\n",
    "    colAvg.append(0)\n",
    "    countAvg = 0\n",
    "    for num in newMData[col]:\n",
    "        if math.isnan(num):\n",
    "            continue\n",
    "        countAvg+=1\n",
    "        colAvg[Tcount] += num\n",
    "    colAvg[Tcount] = colAvg[Tcount] / countAvg\n",
    "csvCovidDict = {'Year-Month': colNames, 'Average Rent': colAvg}\n",
    "plt.scatter(csvCovidDict['Year-Month'], csvCovidDict['Average Rent'])#Decided on the mean vs income graph\n",
    "plt.show()\n",
    "plt.scatter(csvCovidDict['Year-Month'], RentMedList)\n",
    "plt.show()"
   ]
  }
 ],
 "metadata": {
  "kernelspec": {
   "display_name": "Python 3 (ipykernel)",
   "language": "python",
   "name": "python3"
  },
  "language_info": {
   "codemirror_mode": {
    "name": "ipython",
    "version": 3
   },
   "file_extension": ".py",
   "mimetype": "text/x-python",
   "name": "python",
   "nbconvert_exporter": "python",
   "pygments_lexer": "ipython3",
   "version": "3.11.8"
  }
 },
 "nbformat": 4,
 "nbformat_minor": 5
}
