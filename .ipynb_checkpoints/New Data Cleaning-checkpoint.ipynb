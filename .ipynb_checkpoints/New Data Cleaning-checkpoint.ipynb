{
 "cells": [
  {
   "cell_type": "code",
   "execution_count": 5,
   "id": "5b3542c4-d93e-452e-b5ba-8a72c02681f3",
   "metadata": {
    "tags": []
   },
   "outputs": [],
   "source": [
    "\"\"\"\n",
    "DO NOT RUN\n",
    "\n",
    "'Data Cleaning' is only used to trim the original datasets\n",
    "\"\"\"\n",
    "#\n",
    "# COMBINE WITH DATA PREPARATION LATER; DON'T THINK SPLITTING THEM IS NECESSARY\n",
    "#\n",
    "\n",
    "import pandas as pd\n",
    "import math"
   ]
  },
  {
   "cell_type": "code",
   "execution_count": 7,
   "id": "0c51bdcf-0428-41db-a2d9-05cb9ae35094",
   "metadata": {
    "tags": []
   },
   "outputs": [],
   "source": [
    "#creating a list of NYC zip codes and appending two extra zip codes to the list\n",
    "zips_list = pd.read_csv('data/ZipCodes.txt', names=['Zip Code', 'Borough'])\n",
    "ZIPLIST = list(zips_list['Zip Code'])\n",
    "new_zips = [10065, 10075]\n",
    "ZIPLIST = ZIPLIST + new_zips\n",
    "#CHANGES: Minor optimizations, changed file reading to pandas"
   ]
  },
  {
   "cell_type": "code",
   "execution_count": 9,
   "id": "5504c8c7-8a6a-47dc-971c-b086180dab01",
   "metadata": {
    "tags": []
   },
   "outputs": [],
   "source": [
    "#Reading the Income Data and cleaning the header information\n",
    "medianIncome21 = pd.read_csv('data/NEWDATA_MedianInc2021.csv')\n",
    "tempCols = []\n",
    "for header in medianIncome21.columns.values:\n",
    "    tempStr = header.replace('ZCTA5 ', '')\n",
    "    tempStr = tempStr.replace('!!', ' ')\n",
    "    tempStr = tempStr.replace('ï»¿', '')\n",
    "    tempStr = tempStr.replace('\\\"', '')\n",
    "    tempCols.append(tempStr)\n",
    "medianIncome21.columns = tempCols\n",
    "\n",
    "medianIncome22 = pd.read_csv('data/NEWDATA_MedianInc2022.csv')\n",
    "tempCols = []\n",
    "for header in medianIncome22.columns.values:\n",
    "    tempStr = header.replace('ZCTA5 ', '')\n",
    "    tempStr = tempStr.replace('!!', ' ')\n",
    "    tempStr = tempStr.replace('ï»¿', '')\n",
    "    tempStr = tempStr.replace('\\\"', '')\n",
    "    tempCols.append(tempStr)\n",
    "medianIncome22.columns = tempCols\n",
    "#CHANGES: changed file reading to pandas"
   ]
  },
  {
   "cell_type": "code",
   "execution_count": 11,
   "id": "70e0eabf-f127-4d0c-bd24-075427ac965a",
   "metadata": {
    "tags": []
   },
   "outputs": [
    {
     "name": "stdout",
     "output_type": "stream",
     "text": [
      "Index(['Label (Grouping)', '10001 Number Estimate',\n",
      "       '10001 Number Margin of Error', '10001 Percent Distribution Estimate',\n",
      "       '10001 Percent Distribution Margin of Error',\n",
      "       '10001 Median income (dollars) Estimate',\n",
      "       '10001 Median income (dollars) Margin of Error',\n",
      "       '10002 Number Estimate', '10002 Number Margin of Error',\n",
      "       '10002 Percent Distribution Estimate',\n",
      "       ...\n",
      "       '11694 Percent Distribution Estimate',\n",
      "       '11694 Percent Distribution Margin of Error',\n",
      "       '11694 Median income (dollars) Estimate',\n",
      "       '11694 Median income (dollars) Margin of Error',\n",
      "       '11697 Number Estimate', '11697 Number Margin of Error',\n",
      "       '11697 Percent Distribution Estimate',\n",
      "       '11697 Percent Distribution Margin of Error',\n",
      "       '11697 Median income (dollars) Estimate',\n",
      "       '11697 Median income (dollars) Margin of Error'],\n",
      "      dtype='object', length=1243)\n"
     ]
    }
   ],
   "source": [
    "#Dropping columns with zipcodes not relevant to project\n",
    "first = True\n",
    "for col in medianIncome21.columns.values:\n",
    "    if first:\n",
    "        first = False\n",
    "        continue\n",
    "    else:\n",
    "        if int(col[0:5]) not in ZIPLIST:\n",
    "            medianIncome21.drop(col, axis=1, inplace=True)\n",
    "\n",
    "first = True\n",
    "for col in medianIncome22.columns.values:\n",
    "    if first:\n",
    "        first = False\n",
    "        continue\n",
    "    else:\n",
    "        if int(col[0:5]) not in ZIPLIST:\n",
    "            medianIncome22.drop(col, axis=1, inplace=True)\n",
    "            \n",
    "#Drop rows with no data or no relevance\n",
    "medianIncome21.drop([0,2,5,7,12,17,27,32,33,34,39], axis=0, inplace=True)\n",
    "medianIncome22.drop([0,2,5,7,12,17,27,32,33,34,39], axis=0, inplace=True)\n",
    "print(medianIncome21.columns)\n",
    "#CHANGES: Minor optimizations"
   ]
  },
  {
   "cell_type": "code",
   "execution_count": 13,
   "id": "eb36a515-cb8c-4553-9b8a-153f23b15576",
   "metadata": {
    "tags": []
   },
   "outputs": [],
   "source": [
    "#Write cleaned data to new csv\n",
    "medianIncome21.to_csv('data/NEW_21MedianInc.csv', index=False)\n",
    "medianIncome22.to_csv('data/NEW_22MedianInc.csv', index=False)\n",
    "#CHANGES: file writing done with pandas"
   ]
  },
  {
   "cell_type": "code",
   "execution_count": 15,
   "id": "e446afe8-197a-4ea2-a44f-657488c18f35",
   "metadata": {},
   "outputs": [
    {
     "name": "stdout",
     "output_type": "stream",
     "text": [
      "              areaName    Borough      areaType  2015-01  2015-02  2015-03  \\\n",
      "5              Astoria     Queens  neighborhood   2200.0   2200.0   2200.0   \n",
      "6           Auburndale     Queens  neighborhood   1995.0      NaN   2300.0   \n",
      "7           Bath Beach   Brooklyn  neighborhood   1725.0   1775.0   1775.0   \n",
      "8    Battery Park City  Manhattan  neighborhood   3800.0   3950.0   4025.0   \n",
      "9            Bay Ridge   Brooklyn  neighborhood   1700.0   1700.0   1749.0   \n",
      "..                 ...        ...           ...      ...      ...      ...   \n",
      "193    Windsor Terrace   Brooklyn  neighborhood   2700.0   2700.0   2637.0   \n",
      "194          Woodhaven     Queens  neighborhood   1700.0   1700.0   1700.0   \n",
      "195           Woodlawn      Bronx  neighborhood      NaN      NaN      NaN   \n",
      "196           Woodside     Queens  neighborhood   1925.0   2150.0   1900.0   \n",
      "197          Woodstock      Bronx  neighborhood      NaN      NaN      NaN   \n",
      "\n",
      "     2015-04  2015-05  2015-06  2015-07  ...  2022-03  2022-04  2022-05  \\\n",
      "5     2300.0   2300.0   2295.0   2300.0  ...   2350.0   2395.0   2500.0   \n",
      "6     2100.0   1995.0   1995.0   1950.0  ...   2500.0   2400.0   2500.0   \n",
      "7     2000.0   1850.0   1613.0   1700.0  ...   1850.0   1850.0   1850.0   \n",
      "8     4150.0   4518.0   4630.0   4700.0  ...   4685.0   4730.0   5080.0   \n",
      "9     1800.0   1800.0   1800.0   1800.0  ...   1913.0   2000.0   2150.0   \n",
      "..       ...      ...      ...      ...  ...      ...      ...      ...   \n",
      "193   2700.0   2700.0   2800.0   2800.0  ...   3000.0   3200.0   3050.0   \n",
      "194   1675.0   1735.0   1725.0      NaN  ...   2300.0   2288.0   2450.0   \n",
      "195      NaN      NaN      NaN      NaN  ...   2150.0      NaN      NaN   \n",
      "196   1838.0   1800.0   1913.0   1800.0  ...   2000.0   1900.0   1900.0   \n",
      "197      NaN      NaN      NaN      NaN  ...      NaN   1975.0   1950.0   \n",
      "\n",
      "     2022-06  2022-07  2022-08  2022-09  2022-10  2022-11  2022-12  \n",
      "5     2633.0   2650.0   2700.0   2795.0   2695.0   2600.0   2600.0  \n",
      "6     2557.0   2514.0   2600.0      NaN   2400.0      NaN      NaN  \n",
      "7     1795.0   1800.0   1860.0   2075.0   1994.0   1725.0   1700.0  \n",
      "8     5250.0   5613.0   5600.0   5300.0   5300.0   4995.0   5300.0  \n",
      "9     2275.0   2175.0   2350.0   2300.0   2200.0   2100.0   2200.0  \n",
      "..       ...      ...      ...      ...      ...      ...      ...  \n",
      "193   3000.0   3455.0   3750.0   3425.0   3200.0   2795.0   2950.0  \n",
      "194   2000.0   2400.0   2075.0   2075.0   2313.0   2399.0   2250.0  \n",
      "195      NaN      NaN      NaN      NaN      NaN      NaN      NaN  \n",
      "196   2100.0   2200.0   2200.0   2300.0   2263.0   2200.0   2250.0  \n",
      "197      NaN   1950.0   1800.0   1625.0   1800.0   2100.0   2000.0  \n",
      "\n",
      "[193 rows x 99 columns]\n"
     ]
    }
   ],
   "source": [
    "STOPPOINT = .5 #Percent of missing data at which to ignore the row\n",
    "medianRentSE = pd.read_csv('data/medianAskingRentStreetEasy.csv')\n",
    "dropCols = medianRentSE.columns[3:63] #Remove columns containing data from 7+ years ago (before 2015-01)\n",
    "medianRentSE.drop(dropCols, axis=1, inplace=True)\n",
    "dropCols = medianRentSE.columns[-4:] #Remove 2023 columns\n",
    "medianRentSE.drop(dropCols, axis=1, inplace=True)\n",
    "medianRentSE.drop([0,1,2,3,4], axis=0, inplace=True)\n",
    "print(medianRentSE)\n",
    "#CHANGES: Minor optimizations and file reading through pandas"
   ]
  },
  {
   "cell_type": "code",
   "execution_count": 31,
   "id": "989a9ac4-6f00-4989-8205-162db21f67c4",
   "metadata": {
    "tags": []
   },
   "outputs": [],
   "source": [
    "#Deleting data from over 7 years ago from medianAskingRentStreetEasy.csv, deleting neighborhoods with over\n",
    "#STOPPOINT missing data points, removing extraneous data, and writing cleaned data to newMedianAskingRent.csv\n",
    "first = True\n",
    "newRentData = {}\n",
    "cols = medianRentSE.columns[1:]\n",
    "for line in medianRentSE.values:\n",
    "    failcount = 0\n",
    "    if first:\n",
    "        DATA_LEN = len(line)\n",
    "        first = False\n",
    "    if line[2] == 'submarket':\n",
    "        continue\n",
    "    for point in line:\n",
    "        if isinstance(point, str):\n",
    "            continue\n",
    "        if math.isnan(point):\n",
    "            failcount += 1\n",
    "    if failcount > (DATA_LEN * STOPPOINT): #Ignores lines that are missing more than STOPPOINT% of data\n",
    "        continue\n",
    "    newRentData[line[0]] = line[1:]\n",
    "    \n",
    "tempDF = pd.DataFrame.from_dict(newRentData).transpose()\n",
    "tempDF.to_csv('data/NEW_MEDIAN_RENT.csv', header=cols)\n",
    "#CHANGES: data writing done with pandas, code cleaned and optimized, STOPPOINT changed to accomodate for future change*\n",
    "#Removed less yearly data (include last 7 years instead of 5 years)\n",
    "# *future change is making an ML algorithm to fill in missing datapoint"
   ]
  }
 ],
 "metadata": {
  "kernelspec": {
   "display_name": "Python 3 (ipykernel)",
   "language": "python",
   "name": "python3"
  },
  "language_info": {
   "codemirror_mode": {
    "name": "ipython",
    "version": 3
   },
   "file_extension": ".py",
   "mimetype": "text/x-python",
   "name": "python",
   "nbconvert_exporter": "python",
   "pygments_lexer": "ipython3",
   "version": "3.11.8"
  }
 },
 "nbformat": 4,
 "nbformat_minor": 5
}
