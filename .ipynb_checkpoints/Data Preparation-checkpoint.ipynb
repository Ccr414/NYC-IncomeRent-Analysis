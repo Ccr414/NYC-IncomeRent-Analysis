{
 "cells": [
  {
   "cell_type": "code",
   "execution_count": 36,
   "id": "545d38fd-97fd-4f73-89e6-fa2692c18a1d",
   "metadata": {},
   "outputs": [
    {
     "name": "stdin",
     "output_type": "stream",
     "text": [
      "Zip Codes for Astoria:  11101, 11102, 11103, 11105, 11106\n"
     ]
    },
    {
     "name": "stdout",
     "output_type": "stream",
     "text": [
      "Astoria: ['11101', '11102', '11103', '11105', '11106']\n"
     ]
    },
    {
     "name": "stdin",
     "output_type": "stream",
     "text": [
      "Zip Codes for Bath Beach:  111214, 11228\n"
     ]
    },
    {
     "name": "stdout",
     "output_type": "stream",
     "text": [
      "Bath Beach: ['111214', '11228']\n"
     ]
    },
    {
     "name": "stdin",
     "output_type": "stream",
     "text": [
      "Zip Codes for Battery Park City:  10280, 10282\n"
     ]
    },
    {
     "name": "stdout",
     "output_type": "stream",
     "text": [
      "Battery Park City: ['10280', '10282']\n"
     ]
    },
    {
     "name": "stdin",
     "output_type": "stream",
     "text": [
      "Zip Codes for Bay Ridge:  11209, 11220\n"
     ]
    },
    {
     "name": "stdout",
     "output_type": "stream",
     "text": [
      "Bay Ridge: ['11209', '11220']\n"
     ]
    },
    {
     "name": "stdin",
     "output_type": "stream",
     "text": [
      "Zip Codes for Bayside:  11360, 11361, 11364\n"
     ]
    },
    {
     "name": "stdout",
     "output_type": "stream",
     "text": [
      "Bayside: ['11360', '11361', '11364']\n"
     ]
    },
    {
     "name": "stdin",
     "output_type": "stream",
     "text": [
      "Zip Codes for Bedford Park:  10458, 10468\n"
     ]
    },
    {
     "name": "stdout",
     "output_type": "stream",
     "text": [
      "Bedford Park: ['10458', '10468']\n"
     ]
    },
    {
     "name": "stdin",
     "output_type": "stream",
     "text": [
      "Zip Codes for Bedford-Stuyvesant:  11205, 11206, 11216, 11221, 11233\n"
     ]
    },
    {
     "name": "stdout",
     "output_type": "stream",
     "text": [
      "Bedford-Stuyvesant: ['11205', '11206', '11216', '11221', '11233']\n"
     ]
    },
    {
     "name": "stdin",
     "output_type": "stream",
     "text": [
      "Zip Codes for Belmont:  10457, 10458, 10460\n"
     ]
    },
    {
     "name": "stdout",
     "output_type": "stream",
     "text": [
      "Belmont: ['10457', '10458', '10460']\n"
     ]
    },
    {
     "name": "stdin",
     "output_type": "stream",
     "text": [
      "Zip Codes for Bensonhurst:  11204, 11214\n"
     ]
    },
    {
     "name": "stdout",
     "output_type": "stream",
     "text": [
      "Bensonhurst: ['11204', '11214']\n"
     ]
    },
    {
     "name": "stdin",
     "output_type": "stream",
     "text": [
      "Zip Codes for Boerum Hill:  11217\n"
     ]
    },
    {
     "name": "stdout",
     "output_type": "stream",
     "text": [
      "Boerum Hill: ['11217']\n"
     ]
    },
    {
     "name": "stdin",
     "output_type": "stream",
     "text": [
      "Zip Codes for Borough Park:  11204, 11218, 11219, 11220\n"
     ]
    },
    {
     "name": "stdout",
     "output_type": "stream",
     "text": [
      "Borough Park: ['11204', '11218', '11219', '11220']\n"
     ]
    },
    {
     "name": "stdin",
     "output_type": "stream",
     "text": [
      "Zip Codes for Briarwood:  11435\n"
     ]
    },
    {
     "name": "stdout",
     "output_type": "stream",
     "text": [
      "Briarwood: ['11435']\n"
     ]
    },
    {
     "name": "stdin",
     "output_type": "stream",
     "text": [
      "Zip Codes for Brighton Beach:  11235\n"
     ]
    },
    {
     "name": "stdout",
     "output_type": "stream",
     "text": [
      "Brighton Beach: ['11235']\n"
     ]
    },
    {
     "name": "stdin",
     "output_type": "stream",
     "text": [
      "Zip Codes for Bronxwood:  10467\n"
     ]
    },
    {
     "name": "stdout",
     "output_type": "stream",
     "text": [
      "Bronxwood: ['10467']\n"
     ]
    },
    {
     "name": "stdin",
     "output_type": "stream",
     "text": [
      "Zip Codes for Brooklyn Heights:  11201\n"
     ]
    },
    {
     "name": "stdout",
     "output_type": "stream",
     "text": [
      "Brooklyn Heights: ['11201']\n"
     ]
    },
    {
     "name": "stdin",
     "output_type": "stream",
     "text": [
      "Zip Codes for Brownsville:  11212, 11233\n"
     ]
    },
    {
     "name": "stdout",
     "output_type": "stream",
     "text": [
      "Brownsville: ['11212', '11233']\n"
     ]
    },
    {
     "name": "stdin",
     "output_type": "stream",
     "text": [
      "Zip Codes for Bushwick:  11206, 11207, 11221, 11237\n"
     ]
    },
    {
     "name": "stdout",
     "output_type": "stream",
     "text": [
      "Bushwick: ['11206', '11207', '11221', '11237']\n"
     ]
    },
    {
     "name": "stdin",
     "output_type": "stream",
     "text": [
      "Zip Codes for Canarsie:  11236\n"
     ]
    },
    {
     "name": "stdout",
     "output_type": "stream",
     "text": [
      "Canarsie: ['11236']\n"
     ]
    },
    {
     "name": "stdin",
     "output_type": "stream",
     "text": [
      "Zip Codes for Carroll Gardens:  11231\n"
     ]
    },
    {
     "name": "stdout",
     "output_type": "stream",
     "text": [
      "Carroll Gardens: ['11231']\n"
     ]
    },
    {
     "name": "stdin",
     "output_type": "stream",
     "text": [
      "Zip Codes for Central Harlem:  10026, 10027, 10030, 10037, 10039\n"
     ]
    },
    {
     "name": "stdout",
     "output_type": "stream",
     "text": [
      "Central Harlem: ['10026', '10027', '10030', '10037', '10039']\n"
     ]
    },
    {
     "name": "stdin",
     "output_type": "stream",
     "text": [
      "Zip Codes for Central Park South:  10019\n"
     ]
    },
    {
     "name": "stdout",
     "output_type": "stream",
     "text": [
      "Central Park South: ['10019']\n"
     ]
    },
    {
     "name": "stdin",
     "output_type": "stream",
     "text": [
      "Zip Codes for Chelsea:  10001, 10011\n"
     ]
    },
    {
     "name": "stdout",
     "output_type": "stream",
     "text": [
      "Chelsea: ['10001', '10011']\n"
     ]
    },
    {
     "name": "stdin",
     "output_type": "stream",
     "text": [
      "Zip Codes for Chinatown:  10002, 10013\n"
     ]
    },
    {
     "name": "stdout",
     "output_type": "stream",
     "text": [
      "Chinatown: ['10002', '10013']\n"
     ]
    },
    {
     "name": "stdin",
     "output_type": "stream",
     "text": [
      "Zip Codes for Clinton Hill:  11238, 11205\n"
     ]
    },
    {
     "name": "stdout",
     "output_type": "stream",
     "text": [
      "Clinton Hill: ['11238', '11205']\n"
     ]
    },
    {
     "name": "stdin",
     "output_type": "stream",
     "text": [
      "Zip Codes for Cobble Hill:  11201, 11231\n"
     ]
    },
    {
     "name": "stdout",
     "output_type": "stream",
     "text": [
      "Cobble Hill: ['11201', '11231']\n"
     ]
    },
    {
     "name": "stdin",
     "output_type": "stream",
     "text": [
      "Zip Codes for Columbia St Waterfront District:  11201, 11231\n"
     ]
    },
    {
     "name": "stdout",
     "output_type": "stream",
     "text": [
      "Columbia St Waterfront District: ['11201', '11231']\n"
     ]
    },
    {
     "name": "stdin",
     "output_type": "stream",
     "text": [
      "Zip Codes for Concourse:  10451, 10452\n"
     ]
    },
    {
     "name": "stdout",
     "output_type": "stream",
     "text": [
      "Concourse: ['10451', '10452']\n"
     ]
    },
    {
     "name": "stdin",
     "output_type": "stream",
     "text": [
      "Zip Codes for Coney Island:  11224\n"
     ]
    },
    {
     "name": "stdout",
     "output_type": "stream",
     "text": [
      "Coney Island: ['11224']\n"
     ]
    },
    {
     "name": "stdin",
     "output_type": "stream",
     "text": [
      "Zip Codes for Corona:  11368\n"
     ]
    },
    {
     "name": "stdout",
     "output_type": "stream",
     "text": [
      "Corona: ['11368']\n"
     ]
    },
    {
     "name": "stdin",
     "output_type": "stream",
     "text": [
      "Zip Codes for Crown Heights:  11213, 11216, 11225, 11233, 11238\n"
     ]
    },
    {
     "name": "stdout",
     "output_type": "stream",
     "text": [
      "Crown Heights: ['11213', '11216', '11225', '11233', '11238']\n"
     ]
    },
    {
     "name": "stdin",
     "output_type": "stream",
     "text": [
      "Zip Codes for DUMBO:  11201\n"
     ]
    },
    {
     "name": "stdout",
     "output_type": "stream",
     "text": [
      "DUMBO: ['11201']\n"
     ]
    },
    {
     "name": "stdin",
     "output_type": "stream",
     "text": [
      "Zip Codes for Ditmas Park:  11226\n"
     ]
    },
    {
     "name": "stdout",
     "output_type": "stream",
     "text": [
      "Ditmas Park: ['11226']\n"
     ]
    },
    {
     "name": "stdin",
     "output_type": "stream",
     "text": [
      "Zip Codes for Downtown Brooklyn:  11201, 11217\n"
     ]
    },
    {
     "name": "stdout",
     "output_type": "stream",
     "text": [
      "Downtown Brooklyn: ['11201', '11217']\n"
     ]
    },
    {
     "name": "stdin",
     "output_type": "stream",
     "text": [
      "Zip Codes for Dyker Heights:  11228\n"
     ]
    },
    {
     "name": "stdout",
     "output_type": "stream",
     "text": [
      "Dyker Heights: ['11228']\n"
     ]
    },
    {
     "name": "stdin",
     "output_type": "stream",
     "text": [
      "Zip Codes for East Flatbush:  11203\n"
     ]
    },
    {
     "name": "stdout",
     "output_type": "stream",
     "text": [
      "East Flatbush: ['11203']\n"
     ]
    },
    {
     "name": "stdin",
     "output_type": "stream",
     "text": [
      "Zip Codes for East Harlem:  10029, 10035\n"
     ]
    },
    {
     "name": "stdout",
     "output_type": "stream",
     "text": [
      "East Harlem: ['10029', '10035']\n"
     ]
    },
    {
     "name": "stdin",
     "output_type": "stream",
     "text": [
      "Zip Codes for East New York:  11207, 11208, 11239\n"
     ]
    },
    {
     "name": "stdout",
     "output_type": "stream",
     "text": [
      "East New York: ['11207', '11208', '11239']\n"
     ]
    },
    {
     "name": "stdin",
     "output_type": "stream",
     "text": [
      "Zip Codes for East Village:  10003, 10009\n"
     ]
    },
    {
     "name": "stdout",
     "output_type": "stream",
     "text": [
      "East Village: ['10003', '10009']\n"
     ]
    },
    {
     "name": "stdin",
     "output_type": "stream",
     "text": [
      "Zip Codes for Elmhurst:  11373\n"
     ]
    },
    {
     "name": "stdout",
     "output_type": "stream",
     "text": [
      "Elmhurst: ['11373']\n"
     ]
    },
    {
     "name": "stdin",
     "output_type": "stream",
     "text": [
      "Zip Codes for Financial District:  10004, 10005, 10006, 10007, 10038\n"
     ]
    },
    {
     "name": "stdout",
     "output_type": "stream",
     "text": [
      "Financial District: ['10004', '10005', '10006', '10007', '10038']\n"
     ]
    },
    {
     "name": "stdin",
     "output_type": "stream",
     "text": [
      "Zip Codes for Flatbush:  11226\n"
     ]
    },
    {
     "name": "stdout",
     "output_type": "stream",
     "text": [
      "Flatbush: ['11226']\n"
     ]
    },
    {
     "name": "stdin",
     "output_type": "stream",
     "text": [
      "Zip Codes for Flatiron:  10010\n"
     ]
    },
    {
     "name": "stdout",
     "output_type": "stream",
     "text": [
      "Flatiron: ['10010']\n"
     ]
    },
    {
     "name": "stdin",
     "output_type": "stream",
     "text": [
      "Zip Codes for Flushing:  11354, 11355, 11358\n"
     ]
    },
    {
     "name": "stdout",
     "output_type": "stream",
     "text": [
      "Flushing: ['11354', '11355', '11358']\n"
     ]
    },
    {
     "name": "stdin",
     "output_type": "stream",
     "text": [
      "Zip Codes for Fordham:  10453, 10457, 10458, 10468\n"
     ]
    },
    {
     "name": "stdout",
     "output_type": "stream",
     "text": [
      "Fordham: ['10453', '10457', '10458', '10468']\n"
     ]
    },
    {
     "name": "stdin",
     "output_type": "stream",
     "text": [
      "Zip Codes for Forest Hills:  11375\n"
     ]
    },
    {
     "name": "stdout",
     "output_type": "stream",
     "text": [
      "Forest Hills: ['11375']\n"
     ]
    },
    {
     "name": "stdin",
     "output_type": "stream",
     "text": [
      "Zip Codes for Fort Greene:  11201, 11025, 11217, 11238\n"
     ]
    },
    {
     "name": "stdout",
     "output_type": "stream",
     "text": [
      "Fort Greene: ['11201', '11025', '11217', '11238']\n"
     ]
    },
    {
     "name": "stdin",
     "output_type": "stream",
     "text": [
      "Zip Codes for Glendale:  11385\n"
     ]
    },
    {
     "name": "stdout",
     "output_type": "stream",
     "text": [
      "Glendale: ['11385']\n"
     ]
    },
    {
     "name": "stdin",
     "output_type": "stream",
     "text": [
      "Zip Codes for Gowanus:  11215\n"
     ]
    },
    {
     "name": "stdout",
     "output_type": "stream",
     "text": [
      "Gowanus: ['11215']\n"
     ]
    },
    {
     "name": "stdin",
     "output_type": "stream",
     "text": [
      "Zip Codes for Gramercy Park:  10003, 10010\n"
     ]
    },
    {
     "name": "stdout",
     "output_type": "stream",
     "text": [
      "Gramercy Park: ['10003', '10010']\n"
     ]
    },
    {
     "name": "stdin",
     "output_type": "stream",
     "text": [
      "Zip Codes for Gravesend:  11223\n"
     ]
    },
    {
     "name": "stdout",
     "output_type": "stream",
     "text": [
      "Gravesend: ['11223']\n"
     ]
    },
    {
     "name": "stdin",
     "output_type": "stream",
     "text": [
      "Zip Codes for Greenpoint:  11222\n"
     ]
    },
    {
     "name": "stdout",
     "output_type": "stream",
     "text": [
      "Greenpoint: ['11222']\n"
     ]
    },
    {
     "name": "stdin",
     "output_type": "stream",
     "text": [
      "Zip Codes for Greenwich Village:  10003, 10011, 10012, 10014\n"
     ]
    },
    {
     "name": "stdout",
     "output_type": "stream",
     "text": [
      "Greenwich Village: ['10003', '10011', '10012', '10014']\n"
     ]
    },
    {
     "name": "stdin",
     "output_type": "stream",
     "text": [
      "Zip Codes for Greenwood:  11232\n"
     ]
    },
    {
     "name": "stdout",
     "output_type": "stream",
     "text": [
      "Greenwood: ['11232']\n"
     ]
    },
    {
     "name": "stdin",
     "output_type": "stream",
     "text": [
      "Zip Codes for Hamilton Heights:  10031, 10032, 10039\n"
     ]
    },
    {
     "name": "stdout",
     "output_type": "stream",
     "text": [
      "Hamilton Heights: ['10031', '10032', '10039']\n"
     ]
    },
    {
     "name": "stdin",
     "output_type": "stream",
     "text": [
      "Zip Codes for Highbridge:  10452\n"
     ]
    },
    {
     "name": "stdout",
     "output_type": "stream",
     "text": [
      "Highbridge: ['10452']\n"
     ]
    },
    {
     "name": "stdin",
     "output_type": "stream",
     "text": [
      "Zip Codes for Inwood:  10034, 10040\n"
     ]
    },
    {
     "name": "stdout",
     "output_type": "stream",
     "text": [
      "Inwood: ['10034', '10040']\n"
     ]
    },
    {
     "name": "stdin",
     "output_type": "stream",
     "text": [
      "Zip Codes for Jackson Heights:  11372\n"
     ]
    },
    {
     "name": "stdout",
     "output_type": "stream",
     "text": [
      "Jackson Heights: ['11372']\n"
     ]
    },
    {
     "name": "stdin",
     "output_type": "stream",
     "text": [
      "Zip Codes for Jamaica:  11432, 11433, 11434, 11435, 11436\n"
     ]
    },
    {
     "name": "stdout",
     "output_type": "stream",
     "text": [
      "Jamaica: ['11432', '11433', '11434', '11435', '11436']\n"
     ]
    },
    {
     "name": "stdin",
     "output_type": "stream",
     "text": [
      "Zip Codes for Jamaica Estates:  11432\n"
     ]
    },
    {
     "name": "stdout",
     "output_type": "stream",
     "text": [
      "Jamaica Estates: ['11432']\n"
     ]
    },
    {
     "name": "stdin",
     "output_type": "stream",
     "text": [
      "Zip Codes for Kensington:  11218\n"
     ]
    },
    {
     "name": "stdout",
     "output_type": "stream",
     "text": [
      "Kensington: ['11218']\n"
     ]
    },
    {
     "name": "stdin",
     "output_type": "stream",
     "text": [
      "Zip Codes for Kew Gardens:  11415\n"
     ]
    },
    {
     "name": "stdout",
     "output_type": "stream",
     "text": [
      "Kew Gardens: ['11415']\n"
     ]
    },
    {
     "name": "stdin",
     "output_type": "stream",
     "text": [
      "Zip Codes for Kew Gardens Hills:  11367\n"
     ]
    },
    {
     "name": "stdout",
     "output_type": "stream",
     "text": [
      "Kew Gardens Hills: ['11367']\n"
     ]
    },
    {
     "name": "stdin",
     "output_type": "stream",
     "text": [
      "Zip Codes for Kingsbridge:  10463\n"
     ]
    },
    {
     "name": "stdout",
     "output_type": "stream",
     "text": [
      "Kingsbridge: ['10463']\n"
     ]
    },
    {
     "name": "stdin",
     "output_type": "stream",
     "text": [
      "Zip Codes for Little Italy:  10013\n"
     ]
    },
    {
     "name": "stdout",
     "output_type": "stream",
     "text": [
      "Little Italy: ['10013']\n"
     ]
    },
    {
     "name": "stdin",
     "output_type": "stream",
     "text": [
      "Zip Codes for Long Island City:  11101\n"
     ]
    },
    {
     "name": "stdout",
     "output_type": "stream",
     "text": [
      "Long Island City: ['11101']\n"
     ]
    },
    {
     "name": "stdin",
     "output_type": "stream",
     "text": [
      "Zip Codes for Lower East Side:  10002\n"
     ]
    },
    {
     "name": "stdout",
     "output_type": "stream",
     "text": [
      "Lower East Side: ['10002']\n"
     ]
    },
    {
     "name": "stdin",
     "output_type": "stream",
     "text": [
      "Zip Codes for Maspeth:  11378\n"
     ]
    },
    {
     "name": "stdout",
     "output_type": "stream",
     "text": [
      "Maspeth: ['11378']\n"
     ]
    },
    {
     "name": "stdin",
     "output_type": "stream",
     "text": [
      "Zip Codes for Middle Village:  11379\n"
     ]
    },
    {
     "name": "stdout",
     "output_type": "stream",
     "text": [
      "Middle Village: ['11379']\n"
     ]
    },
    {
     "name": "stdin",
     "output_type": "stream",
     "text": [
      "Zip Codes for Midtown:  10001, 10016, 10017, 10018, 10019, 10022, 10036, 10003, 10009, 10010, 10011\n"
     ]
    },
    {
     "name": "stdout",
     "output_type": "stream",
     "text": [
      "Midtown: ['10001', '10016', '10017', '10018', '10019', '10022', '10036', '10003', '10009', '10010', '10011']\n"
     ]
    },
    {
     "name": "stdin",
     "output_type": "stream",
     "text": [
      "Zip Codes for Midtown East:  10017, 10022\n"
     ]
    },
    {
     "name": "stdout",
     "output_type": "stream",
     "text": [
      "Midtown East: ['10017', '10022']\n"
     ]
    },
    {
     "name": "stdin",
     "output_type": "stream",
     "text": [
      "Zip Codes for Midtown South:  10016, 10001, 10036, 10017, 10018\n"
     ]
    },
    {
     "name": "stdout",
     "output_type": "stream",
     "text": [
      "Midtown South: ['10016', '10001', '10036', '10017', '10018']\n"
     ]
    },
    {
     "name": "stdin",
     "output_type": "stream",
     "text": [
      "Zip Codes for Midtown West:  10019, 10036\n"
     ]
    },
    {
     "name": "stdout",
     "output_type": "stream",
     "text": [
      "Midtown West: ['10019', '10036']\n"
     ]
    },
    {
     "name": "stdin",
     "output_type": "stream",
     "text": [
      "Zip Codes for Midwood:  11210, 11230\n"
     ]
    },
    {
     "name": "stdout",
     "output_type": "stream",
     "text": [
      "Midwood: ['11210', '11230']\n"
     ]
    },
    {
     "name": "stdin",
     "output_type": "stream",
     "text": [
      "Zip Codes for Morningside Heights:  10025, 10027\n"
     ]
    },
    {
     "name": "stdout",
     "output_type": "stream",
     "text": [
      "Morningside Heights: ['10025', '10027']\n"
     ]
    },
    {
     "name": "stdin",
     "output_type": "stream",
     "text": [
      "Zip Codes for Mott Haven:  10451, 10454, 10455\n"
     ]
    },
    {
     "name": "stdout",
     "output_type": "stream",
     "text": [
      "Mott Haven: ['10451', '10454', '10455']\n"
     ]
    },
    {
     "name": "stdin",
     "output_type": "stream",
     "text": [
      "Zip Codes for Nolita:  10002\n"
     ]
    },
    {
     "name": "stdout",
     "output_type": "stream",
     "text": [
      "Nolita: ['10002']\n"
     ]
    },
    {
     "name": "stdin",
     "output_type": "stream",
     "text": [
      "Zip Codes for Norwood:  10467\n"
     ]
    },
    {
     "name": "stdout",
     "output_type": "stream",
     "text": [
      "Norwood: ['10467']\n"
     ]
    },
    {
     "name": "stdin",
     "output_type": "stream",
     "text": [
      "Zip Codes for Park Slope:  11215, 11217\n"
     ]
    },
    {
     "name": "stdout",
     "output_type": "stream",
     "text": [
      "Park Slope: ['11215', '11217']\n"
     ]
    },
    {
     "name": "stdin",
     "output_type": "stream",
     "text": [
      "Zip Codes for Prospect Heights:  11217, 11238\n"
     ]
    },
    {
     "name": "stdout",
     "output_type": "stream",
     "text": [
      "Prospect Heights: ['11217', '11238']\n"
     ]
    },
    {
     "name": "stdin",
     "output_type": "stream",
     "text": [
      "Zip Codes for Prospect Lefferts Gardens:  11225\n"
     ]
    },
    {
     "name": "stdout",
     "output_type": "stream",
     "text": [
      "Prospect Lefferts Gardens: ['11225']\n"
     ]
    },
    {
     "name": "stdin",
     "output_type": "stream",
     "text": [
      "Zip Codes for Prospect Park South:  11218, 11226\n"
     ]
    },
    {
     "name": "stdout",
     "output_type": "stream",
     "text": [
      "Prospect Park South: ['11218', '11226']\n"
     ]
    },
    {
     "name": "stdin",
     "output_type": "stream",
     "text": [
      "Zip Codes for Red Hook:  11231\n"
     ]
    },
    {
     "name": "stdout",
     "output_type": "stream",
     "text": [
      "Red Hook: ['11231']\n"
     ]
    },
    {
     "name": "stdin",
     "output_type": "stream",
     "text": [
      "Zip Codes for Rego Park:  11374\n"
     ]
    },
    {
     "name": "stdout",
     "output_type": "stream",
     "text": [
      "Rego Park: ['11374']\n"
     ]
    },
    {
     "name": "stdin",
     "output_type": "stream",
     "text": [
      "Zip Codes for Ridgewood:  11385\n"
     ]
    },
    {
     "name": "stdout",
     "output_type": "stream",
     "text": [
      "Ridgewood: ['11385']\n"
     ]
    },
    {
     "name": "stdin",
     "output_type": "stream",
     "text": [
      "Zip Codes for Riverdale:  10463, 10471\n"
     ]
    },
    {
     "name": "stdout",
     "output_type": "stream",
     "text": [
      "Riverdale: ['10463', '10471']\n"
     ]
    },
    {
     "name": "stdin",
     "output_type": "stream",
     "text": [
      "Zip Codes for Rockaway All:  11697, 11694, 11693, 11692, 11691\n"
     ]
    },
    {
     "name": "stdout",
     "output_type": "stream",
     "text": [
      "Rockaway All: ['11697', '11694', '11693', '11692', '11691']\n"
     ]
    },
    {
     "name": "stdin",
     "output_type": "stream",
     "text": [
      "Zip Codes for Roosevelt Island:  10044\n"
     ]
    },
    {
     "name": "stdout",
     "output_type": "stream",
     "text": [
      "Roosevelt Island: ['10044']\n"
     ]
    },
    {
     "name": "stdin",
     "output_type": "stream",
     "text": [
      "Zip Codes for Sheepshead Bay:  11229, 11235\n"
     ]
    },
    {
     "name": "stdout",
     "output_type": "stream",
     "text": [
      "Sheepshead Bay: ['11229', '11235']\n"
     ]
    },
    {
     "name": "stdin",
     "output_type": "stream",
     "text": [
      "Zip Codes for Soho:  10012, 10013\n"
     ]
    },
    {
     "name": "stdout",
     "output_type": "stream",
     "text": [
      "Soho: ['10012', '10013']\n"
     ]
    },
    {
     "name": "stdin",
     "output_type": "stream",
     "text": [
      "Zip Codes for Soundview:  10472, 10473\n"
     ]
    },
    {
     "name": "stdout",
     "output_type": "stream",
     "text": [
      "Soundview: ['10472', '10473']\n"
     ]
    },
    {
     "name": "stdin",
     "output_type": "stream",
     "text": [
      "Zip Codes for Stuyvesant Town/PCV:  10009, 10010\n"
     ]
    },
    {
     "name": "stdout",
     "output_type": "stream",
     "text": [
      "Stuyvesant Town/PCV: ['10009', '10010']\n"
     ]
    },
    {
     "name": "stdin",
     "output_type": "stream",
     "text": [
      "Zip Codes for Sunnyside:  11101, 11104, 11377\n"
     ]
    },
    {
     "name": "stdout",
     "output_type": "stream",
     "text": [
      "Sunnyside: ['11101', '11104', '11377']\n"
     ]
    },
    {
     "name": "stdin",
     "output_type": "stream",
     "text": [
      "Zip Codes for Sunset Park:  11220, 11232\n"
     ]
    },
    {
     "name": "stdout",
     "output_type": "stream",
     "text": [
      "Sunset Park: ['11220', '11232']\n"
     ]
    },
    {
     "name": "stdin",
     "output_type": "stream",
     "text": [
      "Zip Codes for Tremont:  10453, 10457\n"
     ]
    },
    {
     "name": "stdout",
     "output_type": "stream",
     "text": [
      "Tremont: ['10453', '10457']\n"
     ]
    },
    {
     "name": "stdin",
     "output_type": "stream",
     "text": [
      "Zip Codes for Tribeca:  10013, 10007\n"
     ]
    },
    {
     "name": "stdout",
     "output_type": "stream",
     "text": [
      "Tribeca: ['10013', '10007']\n"
     ]
    },
    {
     "name": "stdin",
     "output_type": "stream",
     "text": [
      "Zip Codes for University Heights:  10453, 10468\n"
     ]
    },
    {
     "name": "stdout",
     "output_type": "stream",
     "text": [
      "University Heights: ['10453', '10468']\n"
     ]
    },
    {
     "name": "stdin",
     "output_type": "stream",
     "text": [
      "Zip Codes for Upper East Side:  10021, 10028, 10065, 10075, 10128\n"
     ]
    },
    {
     "name": "stdout",
     "output_type": "stream",
     "text": [
      "Upper East Side: ['10021', '10028', '10065', '10075', '10128']\n"
     ]
    },
    {
     "name": "stdin",
     "output_type": "stream",
     "text": [
      "Zip Codes for Upper West Side:  10023, 10024, 10025, 10069\n"
     ]
    },
    {
     "name": "stdout",
     "output_type": "stream",
     "text": [
      "Upper West Side: ['10023', '10024', '10025', '10069']\n"
     ]
    },
    {
     "name": "stdin",
     "output_type": "stream",
     "text": [
      "Zip Codes for Washington Heights:  10032, 10033, 10040\n"
     ]
    },
    {
     "name": "stdout",
     "output_type": "stream",
     "text": [
      "Washington Heights: ['10032', '10033', '10040']\n"
     ]
    },
    {
     "name": "stdin",
     "output_type": "stream",
     "text": [
      "Zip Codes for West Harlem:  10027, 10031, 10030, 10032\n"
     ]
    },
    {
     "name": "stdout",
     "output_type": "stream",
     "text": [
      "West Harlem: ['10027', '10031', '10030', '10032']\n"
     ]
    },
    {
     "name": "stdin",
     "output_type": "stream",
     "text": [
      "Zip Codes for West Village:  10014, 10011\n"
     ]
    },
    {
     "name": "stdout",
     "output_type": "stream",
     "text": [
      "West Village: ['10014', '10011']\n"
     ]
    },
    {
     "name": "stdin",
     "output_type": "stream",
     "text": [
      "Zip Codes for Williamsburg:  11206, 11211, 11249\n"
     ]
    },
    {
     "name": "stdout",
     "output_type": "stream",
     "text": [
      "Williamsburg: ['11206', '11211', '11249']\n"
     ]
    },
    {
     "name": "stdin",
     "output_type": "stream",
     "text": [
      "Zip Codes for Windsor Terrace:  11215, 11218\n"
     ]
    },
    {
     "name": "stdout",
     "output_type": "stream",
     "text": [
      "Windsor Terrace: ['11215', '11218']\n"
     ]
    },
    {
     "name": "stdin",
     "output_type": "stream",
     "text": [
      "Zip Codes for Woodhaven:  11421\n"
     ]
    },
    {
     "name": "stdout",
     "output_type": "stream",
     "text": [
      "Woodhaven: ['11421']\n"
     ]
    },
    {
     "name": "stdin",
     "output_type": "stream",
     "text": [
      "Zip Codes for Woodside:  11377\n"
     ]
    },
    {
     "name": "stdout",
     "output_type": "stream",
     "text": [
      "Woodside: ['11377']\n"
     ]
    },
    {
     "name": "stdin",
     "output_type": "stream",
     "text": [
      "Zip Codes for Woodstock:  10455, 10456, 10459\n"
     ]
    },
    {
     "name": "stdout",
     "output_type": "stream",
     "text": [
      "Woodstock: ['10455', '10456', '10459']\n"
     ]
    }
   ],
   "source": [
    "\"\"\"\n",
    "DO NOT RUN\n",
    "\n",
    "'Data Preparation' is only used to trim the original datasets\n",
    "\"\"\"\n",
    "import pandas as pd\n",
    "import csv\n",
    "\n",
    "#creating a list of NYC zip codes\n",
    "ZIPLIST = []\n",
    "with open(\"ZipCodes.txt\", 'r') as z:\n",
    "    while True:\n",
    "        content = z.readline()\n",
    "        if not content:\n",
    "            break\n",
    "        content_list = content.split(' \\t')\n",
    "        del content_list[2]\n",
    "        content_list[3] = content_list[3][:-1]\n",
    "        ZIPLIST.append(content_list[0])\n",
    "        ZIPLIST.append(content_list[2])\n",
    "\n",
    "temp_BORZIPLIST = {'Astoria': ['11101', '11102', '11103', '11105', '11106'], 'Bath Beach': ['11214', '11228'], 'Battery Park City': ['10280', '10282'], 'Bay Ridge': ['11209', '11220'], 'Bayside': ['11360', '11361', '11364'], 'Bedford Park': ['10458', '10468'], 'Bedford-Stuyvesant': ['11205', '11206', '11216', '11221', '11233'], 'Belmont': ['10457', '10458', '10460'], 'Bensonhurst': ['11204', '11214'], 'Boerum Hill': ['11217'], 'Borough Park': ['11204', '11218', '11219', '11220'], 'Briarwood': ['11435'], 'Brighton Beach': ['11235'], 'Bronxwood': ['10467'], 'Brooklyn Heights': ['11201'], 'Brownsville': ['11212', '11233'], 'Bushwick': ['11206', '11207', '11221', '11237'], 'Canarsie': ['11236'], 'Carroll Gardens': ['11231'], 'Central Harlem': ['10026', '10027', '10030', '10037', '10039'], 'Central Park South': ['10019'], 'Chelsea': ['10001', '10011'], 'Chinatown': [] }\n",
    "borList = []\n",
    "tempZip = []\n",
    "with open(\"newMedianAskingRent.csv\") as newMRent:\n",
    "    MedRent = csv.reader(newMRent, delimiter=',')\n",
    "    for line in MedRent:\n",
    "        if line[2] == 'neighborhood':\n",
    "            borList.append(line[0])\n",
    "BORZIPLIST = {}\n",
    "for bor in borList:\n",
    "    tempZipstr = input(\"Zip Codes for \" + bor + \": \")\n",
    "    tempZip = tempZipstr.split(', ')\n",
    "    BORZIPLIST[bor] = tempZip\n",
    "    print(\"%s: %s\" % (bor, BORZIPLIST[bor]))\n",
    "\n",
    "with open(\"BoroughZipCodes.csv\", \"w\") as BorZips:\n",
    "    BorZips.write('Borough, Zip Codes\\n')\n",
    "    for key in BORZIPLIST.keys():\n",
    "        tempWrite = ''\n",
    "        first = True\n",
    "        for i in BORZIPLIST[key]:\n",
    "            if first:\n",
    "                tempWrite += '%s'%(i)\n",
    "                first = False\n",
    "            else:\n",
    "                tempWrite += ',%s'%(i)\n",
    "        BorZips.write('%s,%s\\n' % (key, tempWrite))\n",
    "        \n",
    "\n",
    "InfoDict = {}\n",
    "DictKey = [\"Median Income\", \"Mean Income\", \"Median Margin of Error\", \"Mean Margin of Error\"]\n",
    "count = 0\n",
    "first = True\n",
    "\n",
    "#keep 0, 12, and 13\n",
    "with open(\"newAvgIncomeData.csv\") as newAInc:\n",
    "    AvgIncData = csv.reader(newAInc, delimiter=',')\n",
    "    for line in AvgIncData:\n",
    "        if first:\n",
    "            first = False\n",
    "        else:\n",
    "            if count >= 8:\n",
    "                count = 0\n",
    "            if count == 0:\n",
    "                InfoDict[line[0][0:5]] = [line[12][2:-1], line[13][2:-1]]\n",
    "                count += 1\n",
    "            elif count == 1:\n",
    "                InfoDict[line[0][0:5]].append(line[12][2:-1])\n",
    "                InfoDict[line[0][0:5]].append(line[13][2:-1])\n",
    "                count += 1\n",
    "            else:\n",
    "                count += 1"
   ]
  }
 ],
 "metadata": {
  "kernelspec": {
   "display_name": "Python 3 (ipykernel)",
   "language": "python",
   "name": "python3"
  },
  "language_info": {
   "codemirror_mode": {
    "name": "ipython",
    "version": 3
   },
   "file_extension": ".py",
   "mimetype": "text/x-python",
   "name": "python",
   "nbconvert_exporter": "python",
   "pygments_lexer": "ipython3",
   "version": "3.9.13"
  }
 },
 "nbformat": 4,
 "nbformat_minor": 5
}
